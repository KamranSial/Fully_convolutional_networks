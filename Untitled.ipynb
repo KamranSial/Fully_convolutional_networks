{
 "cells": [
  {
   "cell_type": "code",
   "execution_count": 3,
   "metadata": {
    "collapsed": false
   },
   "outputs": [
    {
     "name": "stdout",
     "output_type": "stream",
     "text": [
      "[[[19 19 19 ..., 19 19 19]\n",
      "  [19 19 19 ..., 19 19 19]\n",
      "  [19 19 19 ..., 19 19 19]\n",
      "  ..., \n",
      "  [19 19 19 ..., 19 19 19]\n",
      "  [19 19 19 ..., 19 19 19]\n",
      "  [19 19 19 ..., 19 19 19]]]\n"
     ]
    }
   ],
   "source": [
    "import tensorflow as tf\n",
    "import os\n",
    "os.environ[\"CUDA_VISIBLE_DEVICES\"] = \"\"\n",
    "\n",
    "TRAINSET_PATH = '/mnt/data1/city/csv_files/cityscapes_train.csv'\n",
    "NUM_OF_CLASSESS = 19\n",
    "BATCH_SIZE = 1\n",
    "IMAGE_HEIGHT = 1024\n",
    "IMAGE_WIDTH = 2048\n",
    "NUM_CHANNELS = 3\n",
    "N_EPOCHS = 300\n",
    "\n",
    "\n",
    "f=open(TRAINSET_PATH,\"r\")\n",
    "filepaths=[]\n",
    "labels=[]\n",
    "for line in f:\n",
    "    filepath, label= line.split(\",\")\n",
    "    filepaths.append(filepath)\n",
    "    label, _=label.split(\"\\r\")\n",
    "    labels.append(label)\n",
    "#print(labels)\n",
    "one_ex = tf.train.slice_input_producer([filepaths,labels]\n",
    "                                           ,capacity = 2975, shuffle=True)\n",
    "\n",
    "im_content = tf.read_file(one_ex[0])\n",
    "train_image = tf.image.decode_png(im_content, channels=3)\n",
    "train_image.set_shape([IMAGE_HEIGHT, IMAGE_WIDTH, NUM_CHANNELS])\n",
    "\n",
    "la_content = tf.read_file(one_ex[1])\n",
    "label_image = tf.image.decode_png(la_content, channels=1)\n",
    "label_image.set_shape([IMAGE_HEIGHT, IMAGE_WIDTH, 1])\n",
    "label_image=tf.squeeze(label_image, squeeze_dims=[2])\n",
    "#label_image = tf.one_hot(label_image,19)\n",
    "\n",
    "#train_image = tf.cast(train_image, tf.float32)# / 255.\n",
    "#image = tf.Print(train_image, [tf.shape(label_image)])\n",
    "train_image_batch, train_label_batch = tf.train.shuffle_batch([train_image, label_image], batch_size=1,\n",
    "                                                               capacity=1 + 3 * 1,\n",
    "                                                               min_after_dequeue=1)\n",
    "\n",
    "\n",
    "sess = tf.Session()\n",
    "init_op = tf.group(tf.initialize_all_variables(),\n",
    "                        tf.initialize_local_variables())\n",
    "sess.run(init_op)\n",
    "threads = tf.train.start_queue_runners(sess=sess)\n",
    "train_imbatch, train_labatch = sess.run([train_image_batch, train_label_batch])\n",
    "print(train_labatch)\n"
   ]
  },
  {
   "cell_type": "code",
   "execution_count": null,
   "metadata": {
    "collapsed": true
   },
   "outputs": [],
   "source": []
  }
 ],
 "metadata": {
  "kernelspec": {
   "display_name": "Python 2",
   "language": "python",
   "name": "python2"
  },
  "language_info": {
   "codemirror_mode": {
    "name": "ipython",
    "version": 2
   },
   "file_extension": ".py",
   "mimetype": "text/x-python",
   "name": "python",
   "nbconvert_exporter": "python",
   "pygments_lexer": "ipython2",
   "version": "2.7.6"
  }
 },
 "nbformat": 4,
 "nbformat_minor": 2
}
