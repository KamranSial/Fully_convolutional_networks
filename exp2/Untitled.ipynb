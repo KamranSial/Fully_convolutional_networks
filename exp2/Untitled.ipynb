{
 "cells": [
  {
   "cell_type": "code",
   "execution_count": 1,
   "metadata": {
    "collapsed": false
   },
   "outputs": [
    {
     "ename": "SyntaxError",
     "evalue": "non-default argument follows default argument (fcn32_freez.py, line 125)",
     "output_type": "error",
     "traceback": [
      "\u001b[0;36m  File \u001b[0;32m\"fcn32_freez.py\"\u001b[0;36m, line \u001b[0;32m125\u001b[0m\n\u001b[0;31m    def _conv_layer(self, bottom, in_channels, out_channels,tnt=False, name):\u001b[0m\n\u001b[0;31mSyntaxError\u001b[0m\u001b[0;31m:\u001b[0m non-default argument follows default argument\n"
     ]
    }
   ],
   "source": [
    "%matplotlib inline\n",
    "import matplotlib.pyplot as plt\n",
    "import matplotlib as mpl\n",
    "import matplotlib.cm as cm\n",
    "import copy\n",
    "import tensorflow as tf\n",
    "\n",
    "import os\n",
    "import time\n",
    "import numpy as np\n",
    "from IPython.display import clear_output\n",
    "import sys\n",
    "import csv\n",
    "import math\n",
    "from matplotlib import colors\n",
    "import fcn32_freez as fcn32_vgg\n",
    "import csv\n",
    "\n",
    "images_tf=tf.placeholder(tf.float32,[None, 1024, 2048, 3])\n",
    "os.environ[\"CUDA_VISIBLE_DEVICES\"] = \"\"\n",
    "vgg_fcn = fcn32_vgg.FCN32VGG()\n",
    "freez=[ True,False,\n",
    "        False,False,\n",
    "        True,False,False,\n",
    "        False,False,False,\n",
    "        False,False,False,\n",
    "        False,False,False]\n",
    "vgg_fcn.build(images_tf, freez=freez, num_classes=19, random_init_fc8=True, debug=False)\n",
    "print('complete')"
   ]
  },
  {
   "cell_type": "code",
   "execution_count": null,
   "metadata": {
    "collapsed": true
   },
   "outputs": [],
   "source": []
  }
 ],
 "metadata": {
  "kernelspec": {
   "display_name": "Python 2",
   "language": "python",
   "name": "python2"
  },
  "language_info": {
   "codemirror_mode": {
    "name": "ipython",
    "version": 2
   },
   "file_extension": ".py",
   "mimetype": "text/x-python",
   "name": "python",
   "nbconvert_exporter": "python",
   "pygments_lexer": "ipython2",
   "version": "2.7.6"
  }
 },
 "nbformat": 4,
 "nbformat_minor": 2
}
