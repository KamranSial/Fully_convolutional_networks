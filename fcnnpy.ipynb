{
 "cells": [
  {
   "cell_type": "code",
   "execution_count": 1,
   "metadata": {
    "collapsed": false
   },
   "outputs": [],
   "source": [
    "%matplotlib inline\n",
    "import matplotlib.pyplot as plt\n",
    "\n",
    "import tensorflow as tf\n",
    "\n",
    "import fcn32_new as fcn32_vgg\n",
    "import os\n",
    "import time\n",
    "import numpy as np\n",
    "#import utils\n",
    "from IPython.display import clear_output\n"
   ]
  },
  {
   "cell_type": "code",
   "execution_count": 2,
   "metadata": {
    "collapsed": false
   },
   "outputs": [
    {
     "name": "stdout",
     "output_type": "stream",
     "text": [
      "Model Loaded\n",
      "conv1_1 Value Loaded\n",
      "Layer name: conv1_1\n",
      "Layer shape: (3, 3, 3, 64)\n",
      "L2 Loss Added\n",
      "conv1_1 (64,) Value Loaded\n",
      "\n",
      "\n",
      "conv1_2 Value Loaded\n",
      "Layer name: conv1_2\n",
      "Layer shape: (3, 3, 64, 64)\n",
      "L2 Loss Added\n",
      "conv1_2 (64,) Value Loaded\n",
      "\n",
      "\n",
      "conv2_1 Value Loaded\n",
      "Layer name: conv2_1\n",
      "Layer shape: (3, 3, 64, 128)\n",
      "L2 Loss Added\n",
      "conv2_1 (128,) Value Loaded\n",
      "\n",
      "\n",
      "conv2_2 Value Loaded\n",
      "Layer name: conv2_2\n",
      "Layer shape: (3, 3, 128, 128)\n",
      "L2 Loss Added\n",
      "conv2_2 (128,) Value Loaded\n",
      "\n",
      "\n",
      "conv3_1 Value Loaded\n",
      "Layer name: conv3_1\n",
      "Layer shape: (3, 3, 128, 256)\n",
      "L2 Loss Added\n",
      "conv3_1 (256,) Value Loaded\n",
      "\n",
      "\n",
      "conv3_2 Value Loaded\n",
      "Layer name: conv3_2\n",
      "Layer shape: (3, 3, 256, 256)\n",
      "L2 Loss Added\n",
      "conv3_2 (256,) Value Loaded\n",
      "\n",
      "\n",
      "conv3_3 Value Loaded\n",
      "Layer name: conv3_3\n",
      "Layer shape: (3, 3, 256, 256)\n",
      "L2 Loss Added\n",
      "conv3_3 (256,) Value Loaded\n",
      "\n",
      "\n",
      "conv4_1 Value Loaded\n",
      "Layer name: conv4_1\n",
      "Layer shape: (3, 3, 256, 512)\n",
      "L2 Loss Added\n",
      "conv4_1 (512,) Value Loaded\n",
      "\n",
      "\n",
      "conv4_2 Value Loaded\n",
      "Layer name: conv4_2\n",
      "Layer shape: (3, 3, 512, 512)\n",
      "L2 Loss Added\n",
      "conv4_2 (512,) Value Loaded\n",
      "\n",
      "\n",
      "conv4_3 Value Loaded\n",
      "Layer name: conv4_3\n",
      "Layer shape: (3, 3, 512, 512)\n",
      "L2 Loss Added\n",
      "conv4_3 (512,) Value Loaded\n",
      "\n",
      "\n",
      "conv5_1 Value Loaded\n",
      "Layer name: conv5_1\n",
      "Layer shape: (3, 3, 512, 512)\n",
      "L2 Loss Added\n",
      "conv5_1 (512,) Value Loaded\n",
      "\n",
      "\n",
      "conv5_2 Value Loaded\n",
      "Layer name: conv5_2\n",
      "Layer shape: (3, 3, 512, 512)\n",
      "L2 Loss Added\n",
      "conv5_2 (512,) Value Loaded\n",
      "\n",
      "\n",
      "conv5_3 Value Loaded\n",
      "Layer name: conv5_3\n",
      "Layer shape: (3, 3, 512, 512)\n",
      "L2 Loss Added\n",
      "conv5_3 (512,) Value Loaded\n",
      "\n",
      "\n",
      "Layer name: fc6\n",
      "Layer shape: [7, 7, 512, 4096]\n",
      "fc6 Value Loaded\n",
      "L2 Loss Added\n",
      "fc6 (4096,) Value Loaded\n",
      "\n",
      "\n",
      "fc6 dropout_added\n",
      "Layer name: fc7\n",
      "Layer shape: [1, 1, 4096, 4096]\n",
      "fc7 Value Loaded\n",
      "L2 Loss Added\n",
      "fc7 (4096,) Value Loaded\n",
      "\n",
      "\n",
      "fc7 dropout_added\n",
      "fc8 Value Randomly initialized\n",
      "L2 Loss Added\n",
      "Layer name: score_fr\n",
      "Layer shape: [1, 1, 4096, 19]\n",
      "fc8_biases Value Initialized 0\n",
      "\n",
      "\n"
     ]
    }
   ],
   "source": [
    "with tf.device('/cpu:0'):\n",
    "    sess = tf.Session()\n",
    "    images_tf = tf.placeholder(tf.float32, [None, 1024, 2048, 3])\n",
    "    labels_tf = tf.placeholder(tf.float32, [None, 1024, 2048, 1])\n",
    "    train_mode = tf.placeholder(tf.bool)\n",
    "\n",
    "    vgg_fcn = fcn32_vgg.FCN32VGG(\"./vgg16.npy\")\n",
    "    vgg_fcn.build(images_tf, train=True, num_classes=19, random_init_fc8=True)\n",
    "\n",
    "    sess.run(tf.global_variables_initializer())"
   ]
  },
  {
   "cell_type": "code",
   "execution_count": 3,
   "metadata": {
    "collapsed": false
   },
   "outputs": [
    {
     "name": "stdout",
     "output_type": "stream",
     "text": [
      "file saved ./fcn32-save.npy\n"
     ]
    },
    {
     "data": {
      "text/plain": [
       "'./fcn32-save.npy'"
      ]
     },
     "execution_count": 3,
     "metadata": {},
     "output_type": "execute_result"
    }
   ],
   "source": [
    "weights_only = tf.trainable_variables()\n",
    "#for x in xrange(len(weights_only)):\n",
    "#print (weights_only[x].name)\n",
    "#output=sess.run(weights_only[11])\n",
    "#print(output)\n",
    "vgg_fcn.save_npy(sess, './fcn32-save.npy')"
   ]
  },
  {
   "cell_type": "code",
   "execution_count": null,
   "metadata": {
    "collapsed": true
   },
   "outputs": [],
   "source": []
  }
 ],
 "metadata": {
  "kernelspec": {
   "display_name": "Python 2",
   "language": "python",
   "name": "python2"
  },
  "language_info": {
   "codemirror_mode": {
    "name": "ipython",
    "version": 2
   },
   "file_extension": ".py",
   "mimetype": "text/x-python",
   "name": "python",
   "nbconvert_exporter": "python",
   "pygments_lexer": "ipython2",
   "version": "2.7.12"
  }
 },
 "nbformat": 4,
 "nbformat_minor": 2
}
