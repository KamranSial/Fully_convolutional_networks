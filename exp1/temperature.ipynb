{
 "cells": [
  {
   "cell_type": "code",
   "execution_count": 3,
   "metadata": {
    "collapsed": false
   },
   "outputs": [
    {
     "name": "stdout",
     "output_type": "stream",
     "text": [
      "65\n",
      "74\n"
     ]
    }
   ],
   "source": [
    "from subprocess import check_output, CalledProcessError\n",
    "import sys\n",
    "import temp \n",
    "\n",
    "    \n",
    "\n",
    "    \n",
    "\n",
    "\n",
    "def main():\n",
    "    \n",
    "    try:\n",
    "        gpu_stats = temp.GPUStatCollection.new_query()\n",
    "    except CalledProcessError:\n",
    "        sys.stderr.write('Error on calling nvidia-smi\\n')\n",
    "          \n",
    "\n",
    "    #gpu_stats.print_formatted(sys.stdout)\n",
    "    print(gpu_stats[0].temperature)\n",
    "    print(gpu_stats[1].temperature)\n",
    "    \n",
    "if __name__ == '__main__':\n",
    "    main()"
   ]
  },
  {
   "cell_type": "code",
   "execution_count": null,
   "metadata": {
    "collapsed": true
   },
   "outputs": [],
   "source": []
  },
  {
   "cell_type": "code",
   "execution_count": null,
   "metadata": {
    "collapsed": true
   },
   "outputs": [],
   "source": []
  }
 ],
 "metadata": {
  "kernelspec": {
   "display_name": "Python 2",
   "language": "python",
   "name": "python2"
  },
  "language_info": {
   "codemirror_mode": {
    "name": "ipython",
    "version": 2
   },
   "file_extension": ".py",
   "mimetype": "text/x-python",
   "name": "python",
   "nbconvert_exporter": "python",
   "pygments_lexer": "ipython2",
   "version": "2.7.6"
  }
 },
 "nbformat": 4,
 "nbformat_minor": 2
}
