{
 "cells": [
  {
   "cell_type": "code",
   "execution_count": null,
   "metadata": {
    "collapsed": false
   },
   "outputs": [],
   "source": [
    "%matplotlib inline\n",
    "import matplotlib.pyplot as plt\n",
    "import matplotlib as mpl\n",
    "import matplotlib.cm as cm\n",
    "import copy\n",
    "import tensorflow as tf\n",
    "import scipy as scp\n",
    "import scipy.misc\n",
    "\n",
    "import os\n",
    "import time\n",
    "import numpy as np\n",
    "from IPython.display import clear_output\n",
    "import sys\n",
    "import csv\n",
    "import math\n",
    "from matplotlib import colors\n",
    "import fcn32_new_wval as fcn32_vgg\n",
    "import csv\n",
    "\n",
    "#ckpt_dir = \"/mnt/data3/FCN_rel/fine/ckpt_dir\"\n",
    "\n",
    "PRETRAINED_MODEL_PATH= \"/mnt/data3/FCN_my_train/ckpt-dir/\"\n",
    "\n",
    "WEIGHT_PATH = \"/mnt/data1/imagenet-data/weights/vgg-epoch-78.npy\"\n",
    "\n",
    "TRAINSET_PATH = '/mnt/data1/city/csv_files/cityscapes_train_wmask2.csv'\n",
    "VALSET_PATH = \"/home/sik4hi/city/csv_files/cityscapes_val_wmask.csv\"\n",
    "\n",
    "#data_csv_path = 'fcn32-game-val.csv'\n",
    "\n",
    "\n",
    "NUM_OF_CLASSESS = 19\n",
    "BATCH_SIZE = 1\n",
    "IMAGE_HEIGHT = 1024\n",
    "IMAGE_WIDTH = 2048\n",
    "NUM_CHANNELS = 3\n",
    "N_EPOCHS = 1\n",
    "\n",
    "os.environ[\"CUDA_VISIBLE_DEVICES\"] = \"0\"\n",
    "\n",
    "\n",
    "\n",
    "\n",
    "\n",
    "with tf.device('/gpu:0'):\n",
    "    sess = tf.Session()\n",
    "    images = tf.placeholder(\"float\")\n",
    "    batch_images = tf.expand_dims(images, 0)\n",
    "    #label_path = tf.placeholder(tf.string)\n",
    "    #masks_tf = tf.placeholder(tf.float32,[None,2097152])\n",
    "    train_mode = tf.placeholder(tf.bool)\n",
    "    \n",
    "    \n",
    "    vgg_fcn = fcn32_vgg.FCN32VGG()#('./vgg16.npy')\n",
    "    \n",
    "                          \n",
    "    with tf.name_scope(\"content_vgg\"):\n",
    "        vgg_fcn.build(batch_images, train=train_mode, num_classes=19, random_init_fc8=False, debug=False)\n",
    "with tf.device('/cpu:0'):\n",
    "    saver = tf.train.Saver(max_to_keep=50)\n",
    "    \n",
    "with tf.device('/gpu:0'):\n",
    "    print('Finished building Network.')\n",
    "    \n",
    "    init_op = tf.group(tf.initialize_all_variables(),\n",
    "                       tf.initialize_local_variables())\n",
    "    sess.run(init_op)\n",
    "    if PRETRAINED_MODEL_PATH:\n",
    "        print \"using Pretrained model\"\n",
    "        ckpt = tf.train.get_checkpoint_state(PRETRAINED_MODEL_PATH)\n",
    "        print(ckpt)\n",
    "        saver.restore(sess,ckpt.model_checkpoint_path)\n",
    "    print(\"finished\")"
   ]
  },
  {
   "cell_type": "code",
   "execution_count": null,
   "metadata": {
    "collapsed": false
   },
   "outputs": [],
   "source": [
    "for i in xrange(10)\n",
    "img1 = scp.misc.imread(\"/mnt/data3/selected images/images/\"+str(i)+\".png\")\n",
    "plt.imshow(img1)"
   ]
  },
  {
   "cell_type": "code",
   "execution_count": null,
   "metadata": {
    "collapsed": false,
    "scrolled": false
   },
   "outputs": [],
   "source": [
    "total_train_loss_list,train_loss_list,plot_train_loss,plot_total_train_loss,plot_train_miou= [],[],[],[],[]\n",
    "val_loss_list,plot_val_loss,plot_val_miou= [],[],[]\n",
    "#for epoch in xrange(N_EPOCHS):\n",
    "cmap = colors.ListedColormap([[0.4667,0.0431,0.1254],[0.2745,0.2745,0.2745],[0,0.2353,0.3921]\n",
    "                              ,[0,0,0.5569],[0.7451,0.6,0.6],[0,0,0.902]\n",
    "                              ,[0.8627,0.0784,0.2352],[0.6,0.6,0.6],[1,0,0]\n",
    "                              ,[0.502,0.251,0.502],[0.9569,0.1372,0.9098],[0.2745,0.5098,0.7059]\n",
    "                              ,[0.5961,0.9843,0.5961],[0.9804,0.6667,0.1176],[0.8627,0.8627,0]\n",
    "                              ,[0,0.3137,0.3922],[0,0,0.2745],[0.4196,0.5569,0.1372]\n",
    "                              ,[0.4,0.4,0.6118],[0,0,0]])\n",
    "norm=colors.NoNorm(0,19)\n",
    "\n",
    "#while coord.should_stop(): \n",
    "for i in xrange(10):\n",
    "    img1 = scp.misc.imread(\"/mnt/data3/selected images/images/\"+str(i)+\".png\")\n",
    "    plt.imshow(img1)\n",
    "    val_pred_pic = sess.run([vgg_fcn.pred_up],feed_dict={train_mode: False, images: img1})\n",
    "    plt.figure(1)\n",
    "    plt.imshow(val_pred_pic[0][0],cmap=cmap,norm=norm)\n",
    "    image=cmap(norm(val_pred_pic[0][0]))\n",
    "    plt.imsave(\"/mnt/data3/selected images/predictions/\"+str(i)+\".png\",image,format='png')"
   ]
  },
  {
   "cell_type": "code",
   "execution_count": null,
   "metadata": {
    "collapsed": false
   },
   "outputs": [],
   "source": [
    "#print(confusion)\n",
    "row_sum=np.sum(confusion,axis=0)\n",
    "col_sum=np.sum(confusion,axis=1)\n",
    "#print(row_sum)\n",
    "#print(col_sum)\n",
    "\n",
    "class_miou=[0 for x in range(19)]\n",
    "for i in xrange(len(confusion[0])):\n",
    "    #print(confusion[i][i])\n",
    "    class_miou[i]=(float(confusion[i][i])/float((row_sum[i]+col_sum[i]-confusion[i][i])))\n",
    "\n",
    "ofile  = open('mean_iou_random.csv', \"w\")\n",
    "writer = csv.writer(ofile)\n",
    "for i in range(len(class_miou)):\n",
    "    writer.writerow([i,class_miou[i]])\n",
    "ofile.close()    \n",
    "print(class_miou)\n",
    "\n",
    "\n"
   ]
  },
  {
   "cell_type": "code",
   "execution_count": null,
   "metadata": {
    "collapsed": true
   },
   "outputs": [],
   "source": []
  }
 ],
 "metadata": {
  "kernelspec": {
   "display_name": "Python 2",
   "language": "python",
   "name": "python2"
  },
  "language_info": {
   "codemirror_mode": {
    "name": "ipython",
    "version": 2
   },
   "file_extension": ".py",
   "mimetype": "text/x-python",
   "name": "python",
   "nbconvert_exporter": "python",
   "pygments_lexer": "ipython2",
   "version": "2.7.6"
  }
 },
 "nbformat": 4,
 "nbformat_minor": 2
}
