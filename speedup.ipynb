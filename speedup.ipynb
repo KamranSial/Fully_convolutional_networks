{
 "cells": [
  {
   "cell_type": "code",
   "execution_count": 1,
   "metadata": {
    "collapsed": false
   },
   "outputs": [
    {
     "name": "stdout",
     "output_type": "stream",
     "text": [
      "500"
     ]
    }
   ],
   "source": [
    "%matplotlib inline\n",
    "import matplotlib.pyplot as plt\n",
    "import matplotlib as mpl\n",
    "import matplotlib.cm as cm\n",
    "import copy\n",
    "import Image\n",
    "#import tensorflow as tf\n",
    "\n",
    "import os\n",
    "import time\n",
    "import numpy as np\n",
    "from IPython.display import clear_output\n",
    "import sys\n",
    "import csv\n",
    "import math\n",
    "from matplotlib import colors\n",
    "\n",
    "filenames=os.listdir(\"/mnt/data1/city/all/val/classes_down/\")\n",
    "path=\"/mnt/data1/city/all/val/classes_down/\"\n",
    "path2=\"/mnt/data1/city/all/val/masks_down/\"\n",
    "\n",
    "\n",
    "b=0\n",
    "for x in xrange(len(filenames)):\n",
    "    filename=str(filenames[x])\n",
    "    img= Image.open(path+filename)\n",
    "    new_filename=filename.split(\".\")[0] + \".bin\"  \n",
    "    a=np.array(img)\n",
    "    width=len(a)\n",
    "    length=len(a[0])\n",
    "    ww=np.zeros((width,length),dtype=np.uint8)\n",
    "    #print(a.shape)    \n",
    "    for j in range(width):\n",
    "        for k in range(length):\n",
    "            if (a[j][k]==19):\n",
    "                ww[j][k]=0\n",
    "            else:\n",
    "                ww[j][k]=1\n",
    "    #plt.figure(1)\n",
    "    #plt.imshow(a,cmap=cmap,norm=norm)\n",
    "    #plt.figure(3)\n",
    "    #plt.imshow(ww,cmap=cmap,norm=norm) \n",
    "    #plt.show()\n",
    "    #break\n",
    "    ww.tofile(path2+new_filename)\n",
    "    b=b+1\n",
    "    sys.stdout.write('\\r\\r' + str(b))\n",
    "    sys.stdout.flush()\n",
    "#print(labels[0])\n",
    "#image=np.array(img)\n",
    "#plt.imshow(np.array(img),cmap=cmap,norm=norm)\n",
    "#plt.show()\n",
    "#a=np.zeros((1024,2048),dtype=np.uint8)\n",
    "#for j in range(1024):\n",
    "#    for k in range(2048):\n",
    "#        if (image[j][k]19):\n",
    "#            b+=1\n",
    "#print(b)       \n",
    "#csv_path = tf.train.string_input_producer([TRAINSET_PATH])\n",
    "#textReader = tf.TextLineReader()\n",
    "#_, content = textReader.read(csv_path)\n",
    "#one_ex = tf.decode_csv(content, record_defaults=[[\"\"], [\"\"]])\n",
    "\n",
    "#im_content = tf.read_file(one_ex[0])\n",
    "#train_image = tf.image.decode_png(im_content, channels=3)\n",
    "#train_image.set_shape([IMAGE_HEIGHT, IMAGE_WIDTH, NUM_CHANNELS])\n",
    "\n",
    "#la_content = tf.read_file(one_ex[1])\n",
    "#label_image = tf.image.decode_png(la_content, channels=1)\n",
    "#label_image.set_shape([IMAGE_HEIGHT, IMAGE_WIDTH, 1])\n",
    "#label_image=tf.squeeze(label_image, squeeze_dims=[2])\n",
    "#label_image2 = tf.reshape(label_image,[-1])\n",
    "\n",
    "\n",
    "\n",
    "\n"
   ]
  },
  {
   "cell_type": "code",
   "execution_count": null,
   "metadata": {
    "collapsed": false
   },
   "outputs": [],
   "source": [
    "cmap = colors.ListedColormap(['blue','purple','orange','lightblue','r'\n",
    "                              ,'darkkhaki','yellow','green','orchid','grey'\n",
    "                              ,'hotpink','blueviolet','gold','deeppink','greenyellow'\n",
    "                              ,'maroon','yellowgreen','saddlebrown','orangered','black'])\n",
    "norm=colors.NoNorm(0,19)\n",
    "with tf.device('/cpu:0'):\n",
    "    sess = tf.Session()\n",
    "    init_op = tf.group(tf.initialize_all_variables(),\n",
    "                       tf.initialize_local_variables())\n",
    "    sess.run(init_op)\n",
    "    \n",
    "    threads = tf.train.start_queue_runners(sess=sess)\n",
    "   \n",
    "\n",
    "                "
   ]
  },
  {
   "cell_type": "code",
   "execution_count": null,
   "metadata": {
    "collapsed": false
   },
   "outputs": [],
   "source": [
    "with tf.device('/cpu:0'):    \n",
    "    for iteration in xrange(2975):\n",
    "        output, filename = sess.run([label_image,one_ex[1]])\n",
    "        #a=[[0 for k in range(2048)] for j in range(1024)]\n",
    "        a=np.zeros((1024,2048),dtype=np.uint8)\n",
    "        for j in range(1024):\n",
    "            for k in range(2048):\n",
    "                if (output[j][k]==19):\n",
    "                    a[j][k]=0\n",
    "                else: \n",
    "                    a[j][k]=1\n",
    "    new_filename=filename.split(\".\")[0] + \".npy\"                \n",
    "    print(new_filename)\n",
    "    np.save(new_filename,a)\n",
    "    plt.figure(1)\n",
    "    plt.imshow(output,cmap=cmap,norm=norm)\n",
    "    plt.figure(3)\n",
    "    plt.imshow(a*1,cmap=cmap,norm=norm)\n",
    "    plt.show()"
   ]
  },
  {
   "cell_type": "code",
   "execution_count": 2,
   "metadata": {
    "collapsed": false
   },
   "outputs": [
    {
     "name": "stdout",
     "output_type": "stream",
     "text": [
      "500\n"
     ]
    }
   ],
   "source": [
    "filenames=os.listdir(\"/mnt/data1/city/all/val/masks_down/\")\n",
    "print(len(filenames))"
   ]
  },
  {
   "cell_type": "code",
   "execution_count": null,
   "metadata": {
    "collapsed": true
   },
   "outputs": [],
   "source": []
  }
 ],
 "metadata": {
  "kernelspec": {
   "display_name": "Python 2",
   "language": "python",
   "name": "python2"
  },
  "language_info": {
   "codemirror_mode": {
    "name": "ipython",
    "version": 2
   },
   "file_extension": ".py",
   "mimetype": "text/x-python",
   "name": "python",
   "nbconvert_exporter": "python",
   "pygments_lexer": "ipython2",
   "version": "2.7.6"
  }
 },
 "nbformat": 4,
 "nbformat_minor": 2
}
