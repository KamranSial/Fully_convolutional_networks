{
 "cells": [
  {
   "cell_type": "code",
   "execution_count": 1,
   "metadata": {
    "collapsed": false
   },
   "outputs": [
    {
     "name": "stdout",
     "output_type": "stream",
     "text": [
      "done\n"
     ]
    }
   ],
   "source": [
    "import tensorflow as tf\n",
    "import os\n",
    "%matplotlib inline\n",
    "import matplotlib.pyplot as plt\n",
    "import matplotlib.cm \n",
    "from matplotlib import colors\n",
    "os.environ[\"CUDA_VISIBLE_DEVICES\"] = \"\"\n",
    "cmap = colors.ListedColormap(['yellow','firebrick','bisque','gold','darkcyan'\n",
    "                              ,'chartreuse','darkgreen','mediumspringgreen','slategray','navy'\n",
    "                              ,'blue','mediumpurple','darkorchid','palevioletred','orange'\n",
    "                              ,'hotpink','indianred','brown','wheat','black'])\n",
    "#cmap =matplotlib.cm.get_cmap(name=\"Paired\")\n",
    "#bounds=[0,1,2,3,4,5,6,7,8,9,10,11,12,13,14,15,16,17,18,19]\n",
    "#norm = colors.BoundaryNorm(bounds, cmap.N)\n",
    "norm=colors.NoNorm(0,19)\n",
    "#test_label= tf.zeros([1],tf.int32)\n",
    "label= [[0,0,0,0,0,0,0,0]\n",
    "       ,[0,0,0,0,0,0,0,0]\n",
    "       ,[0,0,0,0,0,0,0,0]\n",
    "       ,[0,0,0,0,0,0,0,0]\n",
    "       ,[0,0,0,0,0,0,0,0]\n",
    "       ,[0,0,0,0,0,0,0,0]\n",
    "       ,[0,0,0,0,0,0,0,0]\n",
    "       ,[0,0,0,0,0,0,0,0]]\n",
    "\n",
    "pred = [[0,0,0,0,0,0,0,0]\n",
    "       ,[0,0,0,0,0,0,0,0]\n",
    "       ,[0,0,0,0,0,0,0,0]\n",
    "       ,[0,0,0,0,0,0,0,0]\n",
    "       ,[0,0,0,0,0,0,0,0]\n",
    "       ,[0,0,0,0,0,0,0,0]\n",
    "       ,[0,0,0,0,0,0,0,0]\n",
    "       ,[0,0,0,0,0,0,0,0]]\n",
    "\n",
    "#labels= [7,0,0\n",
    "#        ,0,0,0\n",
    "#        ,0,0,0]\n",
    "\n",
    "#logits= [100,0,0\n",
    "#        ,0,0,0\n",
    "#        ,0,0,0]\n",
    "\n",
    "pred    = [1,1,1,1,1,1,1,1\n",
    "        ,1,1,1,1,1,1,1,1\n",
    "        ,1,1,1,1,1,1,1,1\n",
    "        ,1,1,1,1,1,1,1,1\n",
    "        ,1,1,1,1,1,1,1,1\n",
    "        ,1,1,1,1,1,1,1,1\n",
    "        ,1,1,1,1,1,1,1,1\n",
    "        ,1,1,1,1,1,1,1,1]\n",
    "\n",
    "targets    = [1,1,1,1,1,1,1,1\n",
    "        ,1,1,1,1,1,1,1,1\n",
    "        ,1,1,1,1,1,1,1,1\n",
    "        ,1,1,1,1,1,1,1,1\n",
    "        ,1,1,1,1,1,1,1,1\n",
    "        ,1,1,1,1,1,1,1,1\n",
    "        ,1,1,1,1,1,1,1,1\n",
    "        ,1,1,1,1,1,1,1,1]\n",
    "\n",
    "ww    = [1,1,1,1,1,1,1,1\n",
    "        ,1,1,1,1,1,1,1,1\n",
    "        ,1,1,1,1,1,1,1,1\n",
    "        ,1,1,1,1,1,1,1,1\n",
    "        ,1,1,1,1,1,1,1,1\n",
    "        ,1,1,1,1,1,1,1,1\n",
    "        ,1,1,1,1,1,1,1,1\n",
    "        ,1,1,1,1,1,1,1,1]\n",
    "sess = tf.Session()\n",
    "labels_tf = tf.placeholder(tf.int32,[64])\n",
    "#log=tf.placeholder(tf.float32,[9])\n",
    "predictions = tf.placeholder(tf.int32,[64])\n",
    "w = tf.placeholder(tf.int32,[64])\n",
    "\n",
    "labels_oh=tf.one_hot(labels_tf,19)\n",
    "#pred_oh=tf.one_hot(predictions,2)\n",
    "labels_flat=tf.reshape(labels_tf,[-1])\n",
    "pred_flat=tf.reshape(predictions,[-1])\n",
    "#w_flat=tf.reshape(w,[-1])\n",
    "#w= tf.constant([1,1,1, 1,1,1, 1,1,1, 1,1,1, 1,1,1, 1,1,1, 1,0])\n",
    "\n",
    "#correct_pred = tf.equal(tf.argmax(pred_oh, 1), labels_tf)\n",
    "#    accuracy = tf.reduce_mean(tf.cast(correct_pred, tf.float32))\n",
    "cm=tf.contrib.metrics.confusion_matrix(pred_flat,labels_flat,19,weights=w)\n",
    "miou,update=tf.contrib.metrics.streaming_mean_iou(pred_flat,labels_flat,19,weights=w)\n",
    "#cond = tf.reduce_sum(labels_tf)\n",
    "#i=tf.constant(1)\n",
    "#correct_labels=tf.Variable(tf.zeros(tf.shape(labels_flat),tf.int32))\n",
    "#correct_labels[i] = tf.cond(tf.gather(labels_flat,0) > 18, lambda: tf.constant(17), lambda: tf.constant(120))\n",
    "\n",
    "#labels_oh=tf.one_hot(labels_tf,9)\n",
    "init_op = tf.group(tf.initialize_all_variables(),\n",
    "                        tf.initialize_local_variables())\n",
    "sess.run(init_op)\n",
    "#softmax=tf.nn.softmax(log)\n",
    "#cross_entropy=tf.nn.sparse_softmax_cross_entropy_with_logits(log,labels_tf[0])\n",
    "#ww=[[0 for j in range(8)] for i in range(8)]\n",
    "#for i in range(8):\n",
    "#    for j in range(8):l\n",
    "#        if(label[i][j]>=19):\n",
    "#            ww[i][j]=0\n",
    "#        else:\n",
    "#            ww[i][j]=1\n",
    "        \n",
    "\n",
    "        \n",
    "#output,iou = sess.run([cm,miou],\n",
    "#            feed_dict={labels_tf: label,predictions:pred, w:ww})\n",
    "\n",
    "#print (iou)\n",
    "#output = sess.run([cross_entropy], feed_dict={labels_tf: labels, log: logits})\n",
    "#print output\n",
    "#plt.figure(1)\n",
    "#plt.imshow(label, interpolation='nearest',cmap=cmap,norm=norm)\n",
    "\n",
    "#plt.figure(2)\n",
    "#plt.imshow(pred, interpolation='nearest',cmap=cmap,norm=norm)\n",
    "#plt.colorbar()\n",
    "#plt.tight_layout()\n",
    "#plt.show()\n",
    "#dir(plt.cm)\n",
    "#print(argmax)\n",
    "print('done')"
   ]
  },
  {
   "cell_type": "code",
   "execution_count": 24,
   "metadata": {
    "collapsed": false
   },
   "outputs": [
    {
     "name": "stdout",
     "output_type": "stream",
     "text": [
      "[array([[ 0,  0,  0,  0,  0,  0,  0,  0,  0,  0,  0,  0,  0,  0,  0,  0,  0,\n",
      "         0,  0],\n",
      "       [ 0, 59,  0,  0,  0,  0,  0,  0,  0,  0,  0,  0,  0,  0,  0,  0,  0,\n",
      "         0,  0],\n",
      "       [ 0,  1,  0,  0,  0,  0,  0,  0,  0,  0,  0,  0,  0,  0,  0,  0,  0,\n",
      "         0,  0],\n",
      "       [ 0,  2,  0,  0,  0,  0,  0,  0,  0,  0,  0,  0,  0,  0,  0,  0,  0,\n",
      "         0,  0],\n",
      "       [ 0,  1,  0,  0,  0,  0,  0,  0,  0,  0,  0,  0,  0,  0,  0,  0,  0,\n",
      "         0,  0],\n",
      "       [ 0,  1,  0,  0,  0,  0,  0,  0,  0,  0,  0,  0,  0,  0,  0,  0,  0,\n",
      "         0,  0],\n",
      "       [ 0,  0,  0,  0,  0,  0,  0,  0,  0,  0,  0,  0,  0,  0,  0,  0,  0,\n",
      "         0,  0],\n",
      "       [ 0,  0,  0,  0,  0,  0,  0,  0,  0,  0,  0,  0,  0,  0,  0,  0,  0,\n",
      "         0,  0],\n",
      "       [ 0,  0,  0,  0,  0,  0,  0,  0,  0,  0,  0,  0,  0,  0,  0,  0,  0,\n",
      "         0,  0],\n",
      "       [ 0,  0,  0,  0,  0,  0,  0,  0,  0,  0,  0,  0,  0,  0,  0,  0,  0,\n",
      "         0,  0],\n",
      "       [ 0,  0,  0,  0,  0,  0,  0,  0,  0,  0,  0,  0,  0,  0,  0,  0,  0,\n",
      "         0,  0],\n",
      "       [ 0,  0,  0,  0,  0,  0,  0,  0,  0,  0,  0,  0,  0,  0,  0,  0,  0,\n",
      "         0,  0],\n",
      "       [ 0,  0,  0,  0,  0,  0,  0,  0,  0,  0,  0,  0,  0,  0,  0,  0,  0,\n",
      "         0,  0],\n",
      "       [ 0,  0,  0,  0,  0,  0,  0,  0,  0,  0,  0,  0,  0,  0,  0,  0,  0,\n",
      "         0,  0],\n",
      "       [ 0,  0,  0,  0,  0,  0,  0,  0,  0,  0,  0,  0,  0,  0,  0,  0,  0,\n",
      "         0,  0],\n",
      "       [ 0,  0,  0,  0,  0,  0,  0,  0,  0,  0,  0,  0,  0,  0,  0,  0,  0,\n",
      "         0,  0],\n",
      "       [ 0,  0,  0,  0,  0,  0,  0,  0,  0,  0,  0,  0,  0,  0,  0,  0,  0,\n",
      "         0,  0],\n",
      "       [ 0,  0,  0,  0,  0,  0,  0,  0,  0,  0,  0,  0,  0,  0,  0,  0,  0,\n",
      "         0,  0],\n",
      "       [ 0,  0,  0,  0,  0,  0,  0,  0,  0,  0,  0,  0,  0,  0,  0,  0,  0,\n",
      "         0,  0]])]\n"
     ]
    }
   ],
   "source": [
    "iou = sess.run([update],\n",
    "            feed_dict={labels_tf: targets,predictions:pred, w:ww})\n",
    "\n",
    "#print (output)\n",
    "print (iou)"
   ]
  },
  {
   "cell_type": "code",
   "execution_count": 27,
   "metadata": {
    "collapsed": false
   },
   "outputs": [
    {
     "name": "stdout",
     "output_type": "stream",
     "text": [
      "0.0485197\n"
     ]
    }
   ],
   "source": [
    "pred    = [1,1,1,1,1,1,1,1\n",
    "        ,1,1,1,1,1,1,1,1\n",
    "        ,1,1,1,1,1,3,1,1\n",
    "        ,1,1,5,1,1,1,1,1\n",
    "        ,1,1,1,1,1,1,1,1\n",
    "        ,1,1,1,1,4,1,1,1\n",
    "        ,1,1,1,1,1,1,1,1\n",
    "        ,1,1,2,1,3,1,1,1]\n",
    "\n",
    "targets    = [1,1,1,1,1,1,1,1\n",
    "        ,1,1,1,1,1,1,1,1\n",
    "        ,1,1,1,1,1,1,1,1\n",
    "        ,1,1,1,1,1,1,1,1\n",
    "        ,1,1,1,1,1,1,1,1\n",
    "        ,1,1,1,1,1,1,1,1\n",
    "        ,1,1,1,1,1,1,1,1\n",
    "        ,1,1,1,1,1,1,1,1]\n",
    "iou = sess.run(miou)\n",
    "print (iou)"
   ]
  },
  {
   "cell_type": "code",
   "execution_count": 21,
   "metadata": {
    "collapsed": false
   },
   "outputs": [],
   "source": [
    "var_miou = filter(lambda x: x.name.endswith('total_confusion_matrix:0'), tf.local_variables())\n",
    "init_miou=tf.initialize_variables(var_miou)\n",
    "sess.run(init_miou)"
   ]
  },
  {
   "cell_type": "code",
   "execution_count": null,
   "metadata": {
    "collapsed": true
   },
   "outputs": [],
   "source": []
  }
 ],
 "metadata": {
  "kernelspec": {
   "display_name": "Python 2",
   "language": "python",
   "name": "python2"
  },
  "language_info": {
   "codemirror_mode": {
    "name": "ipython",
    "version": 2
   },
   "file_extension": ".py",
   "mimetype": "text/x-python",
   "name": "python",
   "nbconvert_exporter": "python",
   "pygments_lexer": "ipython2",
   "version": "2.7.6"
  }
 },
 "nbformat": 4,
 "nbformat_minor": 2
}
